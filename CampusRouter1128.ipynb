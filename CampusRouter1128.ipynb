{
 "cells": [
  {
   "attachments": {},
   "cell_type": "markdown",
   "id": "ac3b2770-a695-48dc-88e8-371cf0a7d7d0",
   "metadata": {
    "id": "ac3b2770-a695-48dc-88e8-371cf0a7d7d0"
   },
   "source": [
    "## 1. Setup a Basic Router Prompt"
   ]
  },
  {
   "cell_type": "code",
   "execution_count": null,
   "id": "47734b26",
   "metadata": {},
   "outputs": [
    {
     "name": "stdout",
     "output_type": "stream",
     "text": [
      "当然可以，但我需要更多的信息来帮助你。请告诉我你所在的城市或学校名称，这样我才能提供更准确的建议。\n"
     ]
    }
   ],
   "source": [
    "def get_gpt_response(messages):\n",
    "    \n",
    "    import requests\n",
    "    import json\n",
    "\n",
    "    url = \"\"\n",
    "    headers = { \n",
    "        \"Content-Type\": \"application/json\", \n",
    "        \"Authorization\": f\"Bearer \"\n",
    "    }\n",
    "    data = { \n",
    "        \"model\": \"gpt-4\",\n",
    "        \"messages\": messages,\n",
    "        \"temperature\": 0,\n",
    "        \"seed\": 42,\n",
    "    }\n",
    "    try:\n",
    "        response = requests.post(url, headers=headers, data=json.dumps(data))\n",
    "        response.raise_for_status()  # Raise an error for bad status codes\n",
    "        return response.json()\n",
    "    except requests.exceptions.RequestException as e:\n",
    "        print(f\"An error occurred: {e}\")\n",
    "        return None\n",
    "    \n",
    "get_gpt_response([{\"role\": \"user\", \"content\": \"Say this is a test!\"}])\n",
    "\n",
    "def complete(prompt): # 每次回复还是不一样emm 种子固定不下来\n",
    "    return get_gpt_response([{\"role\": \"user\", \"content\": prompt}])['choices'][0]['message']['content']\n",
    "\n",
    "response = complete(\"你能告诉我学生公寓在哪儿吗？\")\n",
    "print(str(response))\n",
    "# llm api 可以正常回复"
   ]
  },
  {
   "cell_type": "code",
   "execution_count": 2,
   "id": "7d8342c9-0f43-4898-9abd-96c92c177ac3",
   "metadata": {
    "id": "7d8342c9-0f43-4898-9abd-96c92c177ac3"
   },
   "outputs": [
    {
     "name": "stdout",
     "output_type": "stream",
     "text": [
      "1. Useful for questions related to outsider\n",
      "\n",
      "2. Useful for questions related to student\n",
      "\n",
      "3. Useful for questions related to staff\n",
      "\n",
      "4. Useful for questions related to teacher\n"
     ]
    }
   ],
   "source": [
    "choices = [\n",
    "    \"Useful for questions related to outsider\",\n",
    "    \"Useful for questions related to student\",\n",
    "    \"Useful for questions related to staff\",\n",
    "    \"Useful for questions related to teacher\",\n",
    "] # campus profile\n",
    "\n",
    "\n",
    "def get_choice_str(choices):\n",
    "    choices_str = \"\\n\\n\".join(\n",
    "        [f\"{idx+1}. {c}\" for idx, c in enumerate(choices)]\n",
    "    )\n",
    "    return choices_str\n",
    "\n",
    "\n",
    "choices_str = get_choice_str(choices) # context_list\n",
    "\n",
    "print(choices_str) # 候选类"
   ]
  },
  {
   "cell_type": "code",
   "execution_count": 3,
   "id": "8b5d991f",
   "metadata": {},
   "outputs": [
    {
     "name": "stdout",
     "output_type": "stream",
     "text": [
      "Some choices are given below. It is provided in a numbered list (1 to      4), where each item in the list corresponds to a      summary.\n",
      "---------------------\n",
      "1. Useful for questions related to outsider\n",
      "\n",
      "2. Useful for questions related to student\n",
      "\n",
      "3. Useful for questions related to staff\n",
      "\n",
      "4. Useful for questions related to teacher\n",
      "---------------------\n",
      "Using      only the choices above and not prior knowledge, return the top choices      (no more than 4, but only select what is needed) that are      most relevant to the question: '你能告诉我学生公寓在哪儿吗？'\n",
      "\n"
     ]
    }
   ],
   "source": [
    "router_prompt0 = \"Some choices are given below. It is provided in a numbered list (1 to \\\n",
    "     {num_choices}), where each item in the list corresponds to a \\\n",
    "     summary.\\n---------------------\\n{context_list}\\n---------------------\\nUsing \\\n",
    "     only the choices above and not prior knowledge, return the top choices \\\n",
    "     (no more than {max_outputs}, but only select what is needed) that are \\\n",
    "     most relevant to the question: '{query_str}'\\n\"\n",
    "\n",
    "def get_formatted_prompt(query_str): \n",
    "    fmt_prompt = router_prompt0.format(\n",
    "        num_choices=len(choices),\n",
    "        max_outputs=len(choices),\n",
    "        context_list=choices_str,\n",
    "        query_str=query_str,\n",
    "    )\n",
    "    return fmt_prompt\n",
    "\n",
    "print(get_formatted_prompt(\"你能告诉我学生公寓在哪儿吗？\")) # 格式化后的prompt"
   ]
  },
  {
   "cell_type": "code",
   "execution_count": 4,
   "id": "c89ed15f",
   "metadata": {},
   "outputs": [
    {
     "name": "stdout",
     "output_type": "stream",
     "text": [
      "2. Useful for questions related to student\n"
     ]
    }
   ],
   "source": [
    "response = complete(get_formatted_prompt(\"你能告诉我学生公寓在哪儿吗？\"))\n",
    "print(str(response)) # llm query 分类"
   ]
  },
  {
   "cell_type": "markdown",
   "id": "c67d0fe1",
   "metadata": {},
   "source": [
    "## test en"
   ]
  },
  {
   "cell_type": "code",
   "execution_count": 5,
   "id": "5ab921cf",
   "metadata": {},
   "outputs": [
    {
     "name": "stdout",
     "output_type": "stream",
     "text": [
      "User query:\n",
      " Can you tell me where the student apartment is?\n",
      "Classification:\n",
      " 2. Useful for questions related to student\n",
      "###\n",
      "User query:\n",
      " Where is the visitor lobby, please? I want to visit the gymnasium.\n",
      "Classification:\n",
      " 1. Useful for questions related to outsider\n",
      "###\n",
      "User query:\n",
      " I will be sharing my teaching experience in the department today. Which conference room will it be held in?\n",
      "Classification:\n",
      " 4. Useful for questions related to teacher\n",
      "###\n",
      "User query:\n",
      " I want to go to the canteen to clean up, can you show me the way?\n",
      "Classification:\n",
      " 1. Useful for questions related to outsider\n",
      "###\n"
     ]
    }
   ],
   "source": [
    "query_str_en = [\n",
    "    \"Can you tell me where the student apartment is?\",\n",
    "    \"Where is the visitor lobby, please? I want to visit the gymnasium.\",\n",
    "    \"I will be sharing my teaching experience in the department today. Which conference room will it be held in?\",\n",
    "    \"I want to go to the canteen to clean up, can you show me the way?\",\n",
    "]\n",
    "\n",
    "for s_en in query_str_en:\n",
    "    fmt_prompt = get_formatted_prompt(s_en)\n",
    "    response = complete(fmt_prompt)\n",
    "    print(\"User query:\\n\", s_en)\n",
    "    print(\"Classification:\\n\",str(response))\n",
    "    print(\"###\")"
   ]
  },
  {
   "cell_type": "markdown",
   "id": "b6173dbc",
   "metadata": {},
   "source": [
    "## test zh"
   ]
  },
  {
   "cell_type": "code",
   "execution_count": 6,
   "id": "55585d09",
   "metadata": {},
   "outputs": [
    {
     "name": "stdout",
     "output_type": "stream",
     "text": [
      "用户查询：\n",
      " 你能告诉我学生公寓在哪儿吗？\n",
      "query分类：\n",
      " 2. Useful for questions related to student\n",
      "###\n",
      "用户查询：\n",
      " 请问访客大厅在哪，我想参观体育馆？\n",
      "query分类：\n",
      " 1. Useful for questions related to outsider\n",
      "###\n",
      "用户查询：\n",
      " 我今天要在系里分享授课心得，请问在哪间会议厅\n",
      "query分类：\n",
      " 4. Useful for questions related to teacher\n",
      "###\n",
      "用户查询：\n",
      " 我要去饭堂打扫卫生，可以指路吗?\n",
      "query分类：\n",
      " 1. Useful for questions related to outsider\n",
      "###\n"
     ]
    }
   ],
   "source": [
    "query_str_zh = [\n",
    "    \"你能告诉我学生公寓在哪儿吗？\",\n",
    "    \"请问访客大厅在哪，我想参观体育馆？\",\n",
    "    \"我今天要在系里分享授课心得，请问在哪间会议厅\",\n",
    "    \"我要去饭堂打扫卫生，可以指路吗?\"\n",
    "]\n",
    "for s_zh in query_str_zh:\n",
    "    fmt_prompt = get_formatted_prompt(s_zh)\n",
    "    response = complete(fmt_prompt)\n",
    "    print(\"用户查询：\\n\",s_zh)\n",
    "    print(\"query分类：\\n\",str(response))\n",
    "    print(\"###\")"
   ]
  },
  {
   "attachments": {},
   "cell_type": "markdown",
   "id": "f7a4cfd8-a515-4613-9f43-92563c14c846",
   "metadata": {
    "id": "f7a4cfd8-a515-4613-9f43-92563c14c846"
   },
   "source": [
    "## 2. A Router Prompt that can generate structured outputs"
   ]
  },
  {
   "cell_type": "code",
   "execution_count": 7,
   "id": "fd0b6408-da38-494e-be00-d2ab0f1a9791",
   "metadata": {
    "id": "fd0b6408-da38-494e-be00-d2ab0f1a9791"
   },
   "outputs": [
    {
     "name": "stdout",
     "output_type": "stream",
     "text": [
      "{\n",
      "  \"properties\": {\n",
      "    \"choice\": {\n",
      "      \"title\": \"Choice\",\n",
      "      \"type\": \"integer\"\n",
      "    },\n",
      "    \"reason\": {\n",
      "      \"title\": \"Reason\",\n",
      "      \"type\": \"string\"\n",
      "    }\n",
      "  },\n",
      "  \"required\": [\n",
      "    \"choice\",\n",
      "    \"reason\"\n",
      "  ],\n",
      "  \"title\": \"Answer\",\n",
      "  \"type\": \"object\"\n",
      "}\n"
     ]
    }
   ],
   "source": [
    "# 定义router输出类\n",
    "\n",
    "from dataclasses import fields\n",
    "from pydantic import BaseModel # 数据验证，json抽取\n",
    "import json\n",
    "\n",
    "class Answer(BaseModel):\n",
    "    choice: int\n",
    "    reason: str\n",
    "    \n",
    "print(json.dumps(Answer.model_json_schema(), indent=2)) \n",
    "#   The `schema` method is deprecated; use `model_json_schema` instead.Pylance\n",
    "\n",
    "# 定义llm输出类 = router输入类\n",
    "\n",
    "FORMAT_STR = \"\"\"The output should be formatted as a JSON instance that conforms to\n",
    "the JSON schema below.\n",
    "\n",
    "Here is the output schema:\n",
    "{\n",
    "  \"type\": \"array\",\n",
    "  \"items\": {\n",
    "    \"type\": \"object\",\n",
    "    \"properties\": {\n",
    "      \"choice\": {\n",
    "        \"type\": \"integer\"\n",
    "      },\n",
    "      \"reason\": {\n",
    "        \"type\": \"string\"\n",
    "      }\n",
    "    },\n",
    "    \"required\": [\n",
    "      \"choice\",\n",
    "      \"reason\"\n",
    "    ],\n",
    "    \"additionalProperties\": false\n",
    "  }\n",
    "}\n",
    "\"\"\""
   ]
  },
  {
   "attachments": {},
   "cell_type": "markdown",
   "id": "f4e23bc5-0fc1-4da5-b5bc-4220f205d0e1",
   "metadata": {
    "id": "f4e23bc5-0fc1-4da5-b5bc-4220f205d0e1"
   },
   "source": [
    "### 2.b 定义路由解析类"
   ]
  },
  {
   "cell_type": "code",
   "execution_count": 8,
   "id": "74614e7a-2314-4702-8918-47cd4ec378bd",
   "metadata": {
    "id": "74614e7a-2314-4702-8918-47cd4ec378bd"
   },
   "outputs": [],
   "source": [
    "def _escape_curly_braces(input_string: str) -> str:\n",
    "    # Replace '{' with '{{' and '}' with '}}' to escape curly braces 去双重花括号\n",
    "    escaped_string = input_string.replace(\"{\", \"{{\").replace(\"}\", \"}}\")\n",
    "    return escaped_string\n",
    "\n",
    "def _marshal_output_to_json(output: str) -> str: # 从llm的回复中提取json串\n",
    "    output = output.strip()\n",
    "    left = output.find(\"[\")\n",
    "    right = output.find(\"]\")\n",
    "    output = output[left : right + 1]\n",
    "    return output\n",
    "\n",
    "from typing import List\n",
    "\n",
    "class RouterOutputParser():\n",
    "    def parse(self, output: str) -> List[Answer]:\n",
    "        \"\"\"Parse string.\"\"\"\n",
    "        json_output = _marshal_output_to_json(output) # 从llm的回复中提取json串\n",
    "        json_dicts = json.loads(json_output) # json转成python的dict\n",
    "        answers = [Answer.parse_obj(json_dict) for json_dict in json_dicts] # 多个json生成Answer\n",
    "        return answers\n",
    "\n",
    "    def format(self, prompt_template: str) -> str: # 格式化输出\n",
    "        return prompt_template + \"\\n\\n\" + _escape_curly_braces(FORMAT_STR)"
   ]
  },
  {
   "attachments": {},
   "cell_type": "markdown",
   "id": "4c20c8fe-9f73-41a7-9760-b2559d475769",
   "metadata": {
    "id": "4c20c8fe-9f73-41a7-9760-b2559d475769"
   },
   "source": [
    "### 2.c 定义路由函数"
   ]
  },
  {
   "cell_type": "code",
   "execution_count": 9,
   "id": "cd7e463c",
   "metadata": {},
   "outputs": [
    {
     "name": "stdout",
     "output_type": "stream",
     "text": [
      "[Answer(choice=3, reason='The request is related to creating a meeting minutes template, which is typically a task associated with staff responsibilities.')]\n"
     ]
    }
   ],
   "source": [
    "output_parser = RouterOutputParser() # 初始化一个解析类\n",
    "\n",
    "def route_query( # 输入用户query，输入预定义的画像类，以及输入llm回复解析类\n",
    "    query_str: str, choices: List[str], output_parser: RouterOutputParser\n",
    "):\n",
    "    choices_str = get_choice_str(choices)\n",
    "    fmt_base_prompt = get_formatted_prompt(query_str)\n",
    "    fmt_json_prompt = output_parser.format(fmt_base_prompt)\n",
    "    # print(fmt_json_prompt) # 格式化后的prompt\n",
    "\n",
    "    raw_output = complete(fmt_json_prompt) # 调用llm生成回复\n",
    "\n",
    "    parsed = output_parser.parse(str(raw_output)) # 解析llm的输出\n",
    "\n",
    "    return parsed\n",
    "\n",
    "route_result = route_query(query_str=\"帮我写一个会议纪要模板\", choices=choices, output_parser=output_parser)\n",
    "print(route_result)"
   ]
  },
  {
   "cell_type": "markdown",
   "id": "c4a3e8ea",
   "metadata": {},
   "source": [
    "# rag decision"
   ]
  },
  {
   "cell_type": "markdown",
   "id": "cb8b9b77",
   "metadata": {},
   "source": [
    "权限分类，首先识别到用户身份，然后调用agent，先配3个agent"
   ]
  },
  {
   "cell_type": "code",
   "execution_count": 10,
   "id": "4d567236",
   "metadata": {},
   "outputs": [
    {
     "data": {
      "text/plain": [
       "['Useful for questions related to outsider',\n",
       " 'Useful for questions related to student',\n",
       " 'Useful for questions related to staff',\n",
       " 'Useful for questions related to teacher']"
      ]
     },
     "execution_count": 10,
     "metadata": {},
     "output_type": "execute_result"
    }
   ],
   "source": [
    "choices"
   ]
  },
  {
   "cell_type": "code",
   "execution_count": 11,
   "id": "608d945d",
   "metadata": {},
   "outputs": [],
   "source": [
    "def get_intent_str(route_result: List[Answer]):\n",
    "    intent_str = \"\\n\\n\".join(\n",
    "        [f\"{idx+1}. {choices[c.choice-1]} : {c.reason}\" for idx, c in enumerate(route_result)]\n",
    "    )\n",
    "    return intent_str"
   ]
  },
  {
   "cell_type": "markdown",
   "id": "06cea32f",
   "metadata": {},
   "source": [
    "## memoAgent"
   ]
  },
  {
   "cell_type": "code",
   "execution_count": 12,
   "id": "9d523539",
   "metadata": {},
   "outputs": [
    {
     "name": "stdout",
     "output_type": "stream",
     "text": [
      "Certainly! Here are the responses based on the user's identity and intent to book a meeting room:\n",
      "\n",
      "1. **Student**: \n",
      "   - \"To book a meeting room, please visit the student portal and navigate to the 'Facilities' section. There, you can check the availability and reserve a room for your study or group work sessions. If you need further assistance, feel free to contact the student services office.\"\n",
      "\n",
      "2. **Staff**: \n",
      "   - \"For booking a meeting room, please use the internal booking system available on the staff intranet. You can view available rooms and make reservations for your administrative or collaborative meetings. If you encounter any issues, the IT support team is available to help.\"\n",
      "\n",
      "3. **Teacher**: \n",
      "   - \"Teachers can reserve meeting rooms through the faculty portal. Simply log in and go to the 'Room Reservations' section to check availability and book a room for your classes or meetings. If you need additional support, please reach out to the administrative office.\"\n",
      "\n",
      "If you have any other questions or need further assistance, feel free to ask!\n"
     ]
    }
   ],
   "source": [
    "# MemoAgent\n",
    "\n",
    "class MemoAgent():\n",
    "    def __init__(self, memo_prompt: str, description = \"会议纪要助手，主页负责撰写会议纪要、整理会议内容\"):\n",
    "        self.memo_prompt = memo_prompt\n",
    "        self.description = description\n",
    "\n",
    "    def run(self, query_str: str, route_result: List[Answer]): \n",
    "        fmt_prompt = self.memo_prompt.format(query_str=query_str, intents=get_intent_str(route_result))\n",
    "        # print(fmt_prompt + \"\\n\")\n",
    "        return complete(fmt_prompt)\n",
    "    \n",
    "memo_prompt0 = \"You are a meeting assistant. The following are questions from users:'{query_str}'. \\\n",
    "Users may have the following identities:\\n{intents}\\n\\\n",
    "Please give corresponding responses based on the user's identity, intent and question.\"\n",
    "\n",
    "memo_agent = MemoAgent(memo_prompt0)\n",
    "memo_query_str = \"帮我预约会议室\"\n",
    "memo_route_result = route_query(query_str=memo_query_str, choices=choices, output_parser=output_parser)\n",
    "print(memo_agent.run(query_str=memo_query_str, route_result=memo_route_result))"
   ]
  },
  {
   "cell_type": "markdown",
   "id": "d9e9e51c",
   "metadata": {},
   "source": [
    "## bookAgent"
   ]
  },
  {
   "cell_type": "code",
   "execution_count": 13,
   "id": "48f7f3d5",
   "metadata": {},
   "outputs": [
    {
     "name": "stdout",
     "output_type": "stream",
     "text": [
      "Certainly! Here are the responses based on the user's identity and intent to book a meeting room:\n",
      "\n",
      "1. **Student:**\n",
      "   - \"您好，您可以通过学校的在线预订系统来预约会议室。请登录您的学生账户，选择您需要的时间和地点。如果您需要帮助，请联系学生服务中心。\"\n",
      "\n",
      "2. **Staff:**\n",
      "   - \"您好，您可以使用内部预订系统来预约会议室。请确保您有访问权限，并选择合适的时间和地点。如果您遇到任何问题，请联系行政办公室以获取支持。\"\n",
      "\n",
      "3. **Teacher:**\n",
      "   - \"您好，您可以通过教师门户网站来预约会议室。请使用您的教师账户登录，并选择您需要的时间和地点。如果您需要进一步的帮助，请与教务处联系。\"\n",
      "\n",
      "These responses guide the user to the appropriate system or contact point for booking a meeting room based on their role within the organization.\n"
     ]
    }
   ],
   "source": [
    "# BookAgent\n",
    "class BookAgent():\n",
    "    def __init__(self, book_prompt: str, description = \"空间预约助手，主要负责预约会议室、活动中心、体育场馆\"):\n",
    "        self.book_prompt = book_prompt\n",
    "        self.description = description\n",
    "\n",
    "    def run(self, query_str: str, route_result: List[Answer]):\n",
    "        fmt_prompt = self.book_prompt.format(query_str=query_str, intents=get_intent_str(route_result))\n",
    "        return complete(fmt_prompt)\n",
    "    \n",
    "book_prompt0 = \"You are a booking assistant. The following are questions from users:'{query_str}'. \\\n",
    "Users may have the following identities:\\n{intents}\\n\\\n",
    "Please give corresponding responses based on the user's identity, intent and question.\"\n",
    "\n",
    "book_agent = BookAgent(book_prompt0)\n",
    "book_query_str = \"帮我预约会议室\"\n",
    "book_route_result = route_query(query_str=book_query_str, choices=choices, output_parser=output_parser)\n",
    "print(book_agent.run(query_str=book_query_str, route_result=book_route_result))"
   ]
  },
  {
   "cell_type": "markdown",
   "id": "2d48bb37",
   "metadata": {},
   "source": [
    "## NavigationAgent"
   ]
  },
  {
   "cell_type": "code",
   "execution_count": 14,
   "id": "9429d441",
   "metadata": {},
   "outputs": [
    {
     "name": "stdout",
     "output_type": "stream",
     "text": [
      "Certainly! If a user asks \"带我去校长办公室\" (Take me to the principal's office), here are the responses based on their identity and intent:\n",
      "\n",
      "1. **Staff Member**: \n",
      "   - \"您好，您可以通过学校的主楼进入，校长办公室通常位于二楼的尽头。如果您需要进一步的帮助，请随时联系学校的前台。\"\n",
      "\n",
      "2. **Student**:\n",
      "   - \"您好，您需要先获得老师或学校管理人员的许可才能进入校长办公室。请联系您的班主任或学校前台以获取更多信息。\"\n",
      "\n",
      "3. **Visitor/Parent**:\n",
      "   - \"您好，欢迎来到学校。请先到学校前台登记，工作人员会为您指引到校长办公室。\"\n",
      "\n",
      "4. **Maintenance/Service Personnel**:\n",
      "   - \"您好，请联系学校的设施管理部门，他们会为您安排进入校长办公室的时间和路线。\"\n",
      "\n",
      "These responses are tailored to ensure that each user receives the appropriate guidance based on their role and the context of their request.\n"
     ]
    }
   ],
   "source": [
    "class NavigationAgent():\n",
    "    def __init__(self, navigation_prompt: str, description = \"导航助手，主要负责带路、指路\"):\n",
    "        self.navigation_prompt = navigation_prompt\n",
    "        self.description = description\n",
    "\n",
    "    def run(self, query_str: str, route_result: List[Answer]):\n",
    "        fmt_prompt = self.navigation_prompt.format(query_str=query_str, intents=get_intent_str(route_result))\n",
    "        return complete(fmt_prompt)\n",
    "    \n",
    "navigation_prompt0 = \"You are a navigation assistant. The following are questions from users:'{query_str}'. \\\n",
    "Users may have the following identities:\\n{intents}\\n\\\n",
    "Please give corresponding responses based on the user's identity, intent and question.\"\n",
    "\n",
    "navigation_agent = NavigationAgent(book_prompt0)\n",
    "navigation_query_str = \"带我去校长办公室\"\n",
    "navigation_route_result = route_query(query_str=navigation_query_str, choices=choices, output_parser=output_parser)\n",
    "print(navigation_agent.run(query_str=navigation_query_str, route_result=navigation_route_result))"
   ]
  },
  {
   "cell_type": "markdown",
   "id": "d7ad912a",
   "metadata": {},
   "source": [
    "## RouterAgent"
   ]
  },
  {
   "cell_type": "code",
   "execution_count": 15,
   "id": "2c1b767a",
   "metadata": {},
   "outputs": [],
   "source": [
    "from typing import List, Any\n",
    "\n",
    "output_parser = RouterOutputParser() # 初始化一个解析类\n",
    "\n",
    "def route_query( # 输入用户query，输入预定义的画像类，以及输入llm回复解析类\n",
    "    query_str: str, choices: List[str], output_parser: RouterOutputParser\n",
    "):\n",
    "    choices_str = get_choice_str(choices)\n",
    "    fmt_base_prompt = get_formatted_prompt(query_str)\n",
    "    fmt_json_prompt = output_parser.format(fmt_base_prompt)\n",
    "    # print(fmt_json_prompt) # 格式化后的prompt\n",
    "\n",
    "    raw_output = complete(fmt_json_prompt) # 调用llm生成回复\n",
    "\n",
    "    parsed = output_parser.parse(str(raw_output)) # 解析llm的输出\n",
    "\n",
    "    return parsed\n",
    "\n",
    "class RouterAgent():\n",
    "    def __init__(self, router_prompt: str, agent_choices: List[Any], profile_choices: List[str], output_parser: RouterOutputParser):\n",
    "        self.router_prompt = router_prompt\n",
    "        self.agent_choices = agent_choices\n",
    "        self.agent_descriptions = [agent.description for agent in agent_choices]\n",
    "        self.profile_choices = profile_choices\n",
    "        self.output_parser = output_parser\n",
    "    \n",
    "    def _get_formatted_prompt(self, query_str: str, choices: List[str]): \n",
    "        fmt_prompt = self.router_prompt.format(\n",
    "            num_choices=len(choices),\n",
    "            max_outputs=len(choices),\n",
    "            context_list=get_choice_str(choices),\n",
    "            query_str=query_str,\n",
    "        )\n",
    "        return fmt_prompt\n",
    "    \n",
    "    def _route_query(\n",
    "        self, query_str: str, choices: List[str], output_parser: RouterOutputParser # 优化，两个解析不一样才对\n",
    "    ):\n",
    "        fmt_base_prompt = self._get_formatted_prompt(query_str, choices)\n",
    "        fmt_json_prompt = self.output_parser.format(fmt_base_prompt)\n",
    "        raw_output = complete(fmt_json_prompt)\n",
    "        parsed = self.output_parser.parse(str(raw_output))\n",
    "        return parsed\n",
    "    \n",
    "    def _profile_route_query(self, query_str: str): # query-profile分类\n",
    "        return self._route_query(query_str=query_str, choices=self.profile_choices, output_parser=self.output_parser)\n",
    "\n",
    "    def _agent_route_query(self, query_str: str): # query-agent分类\n",
    "        return self._route_query(query_str=query_str, choices=self.agent_descriptions, output_parser=self.output_parser)\n",
    "    \n",
    "    def run(self, query_str: str):\n",
    "        profile_route_result = self._profile_route_query(query_str)\n",
    "        agent_route_result = self._agent_route_query(query_str)\n",
    "        agent_id = [x.choice for x in agent_route_result]  #  调用可能用得上的agent\n",
    "        for id in agent_id:\n",
    "            current_agent_response = self.agent_choices[id-1].run(query_str, profile_route_result)\n",
    "\n",
    "            return current_agent_response # 优化：调用多个agent的时候，summary多个agent的回复再输出\n"
   ]
  },
  {
   "cell_type": "markdown",
   "id": "8c864998",
   "metadata": {},
   "source": [
    "## Initialize"
   ]
  },
  {
   "cell_type": "code",
   "execution_count": 16,
   "id": "3fd0f36b",
   "metadata": {},
   "outputs": [],
   "source": [
    "router_prompt0 = \"Some choices are given below. It is provided in a numbered list (1 to \\\n",
    "     {num_choices}), where each item in the list corresponds to a \\\n",
    "     summary.\\n---------------------\\n{context_list}\\n---------------------\\nUsing \\\n",
    "     only the choices above and not prior knowledge, return the top choices \\\n",
    "     (no more than {max_outputs}, but only select what is needed) that are \\\n",
    "     most relevant to the question: '{query_str}'\\n\"\n",
    "\n",
    "profile_choices = [\n",
    "    '与学生相关',\n",
    "    '与教职工相关',\n",
    "    '与家属相关',\n",
    "    '与访客游客相关'\n",
    "]\n",
    "agent_choices = [memo_agent, book_agent, navigation_agent]\n",
    "output_parser = RouterOutputParser()\n",
    "\n",
    "router_agent = RouterAgent(router_prompt0, agent_choices=agent_choices, profile_choices=profile_choices, output_parser=output_parser)"
   ]
  },
  {
   "cell_type": "markdown",
   "id": "f4454df0",
   "metadata": {},
   "source": [
    "## Test classification"
   ]
  },
  {
   "cell_type": "code",
   "execution_count": 17,
   "id": "3f808809",
   "metadata": {},
   "outputs": [
    {
     "data": {
      "text/plain": [
       "[Answer(choice=3, reason='导航助手负责带路、指路，最适合回答如何去校长办公室的问题。')]"
      ]
     },
     "execution_count": 17,
     "metadata": {},
     "output_type": "execute_result"
    }
   ],
   "source": [
    "router_agent._agent_route_query(\"带我去校长办公室\")"
   ]
  },
  {
   "cell_type": "code",
   "execution_count": 18,
   "id": "44b29636",
   "metadata": {},
   "outputs": [
    {
     "data": {
      "text/plain": [
       "[Answer(choice=1, reason=\"The request to be taken to the principal's office is likely related to students, as they are the primary group interacting with the principal.\"),\n",
       " Answer(choice=2, reason=\"Faculty and staff may also need to visit the principal's office for professional reasons.\")]"
      ]
     },
     "execution_count": 18,
     "metadata": {},
     "output_type": "execute_result"
    }
   ],
   "source": [
    "router_agent._profile_route_query(\"带我去校长办公室\")"
   ]
  },
  {
   "cell_type": "markdown",
   "id": "dadab430",
   "metadata": {},
   "source": [
    "## response"
   ]
  },
  {
   "cell_type": "code",
   "execution_count": 19,
   "id": "481d6ef3",
   "metadata": {},
   "outputs": [
    {
     "name": "stdout",
     "output_type": "stream",
     "text": [
      "Certainly! Here are the responses based on the user's identity and intent:\n",
      "\n",
      "1. **For Students:**\n",
      "   - Response: \"好的，我会帮您取消下午的会议室预约。如果您需要重新预订或有其他问题，请随时告诉我。\"\n",
      "\n",
      "2. **For Faculty or Staff:**\n",
      "   - Response: \"好的，我会为您取消下午的会议室预约。如果您需要重新安排或有其他需求，请随时与我联系。\"\n",
      "\n",
      "If you have any other requests or need further assistance, feel free to ask!\n"
     ]
    }
   ],
   "source": [
    "print(router_agent.run(\"帮我取消预约下午的会议室\"))"
   ]
  },
  {
   "cell_type": "code",
   "execution_count": 20,
   "id": "7c435e17",
   "metadata": {},
   "outputs": [
    {
     "name": "stdout",
     "output_type": "stream",
     "text": [
      "Based on the user's request \"带我去教师活动中心\" and the context provided, it seems the user is asking for directions or assistance related to the \"教师活动中心\" (Faculty Activity Center). Since this is relevant to faculty or staff, the identity \"与教职工相关\" (related to faculty/staff) is appropriate. Here is a possible response:\n",
      "\n",
      "\"您好！您想前往教师活动中心。请问您需要具体的路线指引，还是需要预定相关的活动或设施？如果您有任何特殊要求，请随时告知我，我会尽力协助您。\" \n",
      "\n",
      "This response acknowledges the user's request and offers further assistance, whether it's for directions or booking related activities or facilities.\n"
     ]
    }
   ],
   "source": [
    "print(router_agent.run(\"带我去教师活动中心\"))"
   ]
  },
  {
   "cell_type": "code",
   "execution_count": null,
   "id": "776d7d0b",
   "metadata": {},
   "outputs": [],
   "source": []
  }
 ],
 "metadata": {
  "colab": {
   "provenance": []
  },
  "kernelspec": {
   "display_name": "PCenv",
   "language": "python",
   "name": "python3"
  },
  "language_info": {
   "codemirror_mode": {
    "name": "ipython",
    "version": 3
   },
   "file_extension": ".py",
   "mimetype": "text/x-python",
   "name": "python",
   "nbconvert_exporter": "python",
   "pygments_lexer": "ipython3",
   "version": "3.10.15"
  }
 },
 "nbformat": 4,
 "nbformat_minor": 5
}
